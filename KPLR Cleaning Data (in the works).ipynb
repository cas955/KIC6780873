{
 "cells": [
  {
   "cell_type": "code",
   "execution_count": null,
   "metadata": {},
   "outputs": [],
   "source": [
    "# to-do: clean this up\n",
    "import matplotlib.pyplot as plt\n",
    "%matplotlib inline\n",
    "import numpy as np\n",
    "import scipy\n",
    "from scipy.optimize import minimize as op\n",
    "from astropy.stats import LombScargle\n",
    "import scipy.ndimage\n",
    "from scipy.fftpack import fft,ifft,fftfreq\n",
    "import pickle"
   ]
  },
  {
   "cell_type": "code",
   "execution_count": null,
   "metadata": {},
   "outputs": [],
   "source": [
    "pickleload = open(\"rawdata.pickle\",\"rb\")\n",
    "data = pickle.load(pickleload)"
   ]
  },
  {
   "cell_type": "code",
   "execution_count": null,
   "metadata": {},
   "outputs": [],
   "source": [
    "# set first guess at mixer properties; the better this is to start, the better!\n",
    "#amp0 = 2000.\n",
    "f0 = 14.187637 #(November 18, 2019) cycles per day CAREFULLY TUNED BY HAND\n",
    "#f0 = 13.43635 # cycles per day NOT YET CAREFULLY TUNED BY HAND!\n",
    "#phase0 = -1.0 # chosen arbitrarily\n",
    "#bandwidth = .2 # cycles per day"
   ]
  },
  {
   "cell_type": "code",
   "execution_count": null,
   "metadata": {
    "scrolled": true
   },
   "outputs": [],
   "source": [
    "quarters = np.unique(np.sort(data[\"quarter\"]))\n",
    "print(quarters)"
   ]
  },
  {
   "cell_type": "code",
   "execution_count": null,
   "metadata": {
    "scrolled": true
   },
   "outputs": [],
   "source": [
    "for quarter in quarters:\n",
    "    I = data[\"quarter\"] == quarter\n",
    "    # bandpass filter to a narrow frequency range\n",
    "    thisflux = (data[\"flux\"])[I]\n",
    "    thistime = (data[\"time\"])[I]\n",
    "    thisy = fft(thisflux)\n",
    "    thisq = fftfreq(len(thisflux)) / np.nanmedian(thistime[1:] - thistime[:-1])\n",
    "    notband = np.abs(np.abs(thisq) - f0) > 3. * bandwidth\n",
    "    thisy[notband] = 0.\n",
    "    thisflux = ifft(thisy).real\n",
    "    data[\"flux\"][I] = thisflux"
   ]
  },
  {
   "cell_type": "code",
   "execution_count": null,
   "metadata": {
    "scrolled": false
   },
   "outputs": [],
   "source": [
    "plt.figure(figsize=(15,5))\n",
    "plt.scatter(data[\"time\"],data[\"flux\"],marker=\".\",alpha=0.1, c=data[\"quarter\"])\n",
    "plt.xlabel(\"time\",fontsize=20)\n",
    "plt.ylabel(\"flux\",fontsize=20)"
   ]
  },
  {
   "cell_type": "code",
   "execution_count": null,
   "metadata": {},
   "outputs": [],
   "source": [
    "# HACK: In this block, the number 50 is a magic number\n",
    "# Instead it should be the inverse bandwidth / the nanmedian of time differences or something like that.\n",
    "#amp0=1202.78 #phase0=-1.15"
   ]
  },
  {
   "cell_type": "code",
   "execution_count": null,
   "metadata": {},
   "outputs": [],
   "source": [
    "mixer = amp0 * np.exp(1j * (2 * np.pi * f0 * data[\"time\"] - phase0))\n",
    "mf = mixer * data[\"flux\"]\n",
    "immf = mf.imag\n",
    "remf = mf.real\n",
    "sremf = scipy.ndimage.filters.gaussian_filter1d(remf, 50)\n",
    "simmf = scipy.ndimage.filters.gaussian_filter1d(immf, 50)"
   ]
  },
  {
   "cell_type": "code",
   "execution_count": null,
   "metadata": {},
   "outputs": [],
   "source": [
    "A=np.mean(immf**2 + remf**2)\n",
    "phi=np.arctan2(np.mean(immf),np.mean(remf))\n",
    "def objective(f,A,phi,data):\n",
    "    remf=mf.real\n",
    "    immf=mf.imag\n",
    "    return np.var(immf)\n",
    "f=op(objective,f0,args=(A,phi,data))"
   ]
  },
  {
   "cell_type": "code",
   "execution_count": null,
   "metadata": {},
   "outputs": [],
   "source": [
    "print(f)"
   ]
  },
  {
   "cell_type": "code",
   "execution_count": null,
   "metadata": {},
   "outputs": [],
   "source": [
    "plt.scatter(remf, immf, s=5, alpha=0.25)\n",
    "print(np.mean(remf),np.mean(immf))"
   ]
  },
  {
   "cell_type": "code",
   "execution_count": null,
   "metadata": {},
   "outputs": [],
   "source": [
    "# tune the radio\n",
    "# that is, optimize amp0, f0, phase0 to get a concentrated blob at (1, 0)"
   ]
  },
  {
   "cell_type": "code",
   "execution_count": null,
   "metadata": {},
   "outputs": [],
   "source": [
    "plt.plot(data[\"time\"], sremf, \"b-\", alpha=0.5)\n",
    "plt.plot(data[\"time\"], simmf, \"r-\", alpha=0.5)"
   ]
  },
  {
   "cell_type": "code",
   "execution_count": null,
   "metadata": {},
   "outputs": [],
   "source": [
    "#need to work on grey band\n",
    "plt.figure(figsize=(15,5))\n",
    "plt.plot(data[\"time\"],data[\"flux\"])\n",
    "plt.xlabel(\"time\",fontsize=20)\n",
    "plt.ylabel(\"flux\",fontsize=20)\n",
    "plt.title(\"ZOOMED INSERT TITLE\")\n",
    "plt.xlim(130,170)"
   ]
  },
  {
   "cell_type": "code",
   "execution_count": null,
   "metadata": {},
   "outputs": [],
   "source": [
    "data[\"remf\"] = remf\n",
    "data[\"immf\"] = immf\n",
    "data[\"sremf\"] = sremf\n",
    "data[\"simmf\"] = simmf\n",
    "data[\"f0\"] = f0\n",
    "data[\"phase0\"] = phase0\n",
    "data[\"bandwidth\"] = bandwidth\n",
    "data[\"amp0\"] = amp0"
   ]
  },
  {
   "cell_type": "code",
   "execution_count": null,
   "metadata": {},
   "outputs": [],
   "source": [
    "picklesave = open(\"filtered_and_mixed.pickle\",\"wb\")\n",
    "pickle.dump(data, picklesave)\n",
    "picklesave.close()"
   ]
  },
  {
   "cell_type": "code",
   "execution_count": null,
   "metadata": {},
   "outputs": [],
   "source": []
  }
 ],
 "metadata": {
  "kernelspec": {
   "display_name": "Python 3",
   "language": "python",
   "name": "python3"
  },
  "language_info": {
   "codemirror_mode": {
    "name": "ipython",
    "version": 3
   },
   "file_extension": ".py",
   "mimetype": "text/x-python",
   "name": "python",
   "nbconvert_exporter": "python",
   "pygments_lexer": "ipython3",
   "version": "3.6.4"
  }
 },
 "nbformat": 4,
 "nbformat_minor": 2
}
