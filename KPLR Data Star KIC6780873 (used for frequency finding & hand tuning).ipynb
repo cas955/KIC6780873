{
 "cells": [
  {
   "cell_type": "code",
   "execution_count": null,
   "metadata": {},
   "outputs": [],
   "source": [
    "import kplr \n",
    "client = kplr.API()\n",
    "import matplotlib.pyplot as plt\n",
    "%matplotlib inline\n",
    "import numpy as np\n",
    "import astropy.stats\n",
    "import astropy\n",
    "from astropy.stats import LombScargle\n",
    "import math\n",
    "import pylab\n",
    "import scipy.ndimage"
   ]
  },
  {
   "cell_type": "code",
   "execution_count": null,
   "metadata": {},
   "outputs": [],
   "source": [
    "starsample = client.star(6780873)\n",
    "curves=starsample.get_light_curves(short_cadence=False, long_cadence=True, fetch=True, clobber=False)"
   ]
  },
  {
   "cell_type": "code",
   "execution_count": null,
   "metadata": {},
   "outputs": [],
   "source": [
    "short_curves, long_curves = [], []"
   ]
  },
  {
   "cell_type": "code",
   "execution_count": null,
   "metadata": {},
   "outputs": [],
   "source": [
    "for lc in curves:\n",
    "    if \"llc\" in lc.filename:\n",
    "        long_curves.append(lc)\n",
    "    else:\n",
    "        short_curves.append(lc)"
   ]
  },
  {
   "cell_type": "code",
   "execution_count": null,
   "metadata": {},
   "outputs": [],
   "source": [
    "time, flux, flerr, quarter = np.array([]), np.array([]), np.array([]), np.array([])\n",
    "for qq,lc in enumerate(long_curves): #same as KIC1718594 but changed short to long curves?\n",
    "    print(lc.filename)\n",
    "    with lc.open() as f:\n",
    "        thisdata = f[1].data\n",
    "        thistime = thisdata[\"time\"]\n",
    "        thisflux = thisdata[\"pdcsap_flux\"]\n",
    "        medianflux = np.nanmedian(thisflux)\n",
    "        bad = np.logical_not(np.isfinite(thisflux))\n",
    "        thisflux = thisflux / medianflux\n",
    "        thisflux[bad] = 1.\n",
    "        thisflerr = thisdata[\"pdcsap_flux_err\"] / medianflux\n",
    "        thisflerr[bad] = 1000.\n",
    "        thisquarter = np.zeros_like(thistime) + qq\n",
    "        time = np.concatenate((time, thistime))\n",
    "        flux = np.concatenate((flux, thisflux))\n",
    "        flerr = np.concatenate((flerr, thisflerr))\n",
    "        quarter = np.concatenate((quarter, thisquarter))\n",
    "quarter = np.round(quarter).astype(int)\n",
    "print(time.shape, flux.shape, flerr.shape)\n",
    "good = np.isfinite(time)\n",
    "time = time[good]\n",
    "flux = flux[good]\n",
    "flerr = flerr[good]\n",
    "quarter = quarter[good]\n",
    "print(time.shape, flux.shape, flerr.shape)"
   ]
  },
  {
   "cell_type": "code",
   "execution_count": null,
   "metadata": {},
   "outputs": [],
   "source": [
    "plt.figure(figsize=(15,5))\n",
    "plt.scatter(time,flux,marker=\".\",alpha=0.1, c=quarter) #not quarters like before but looks cool\n",
    "plt.xlabel(\"time\",fontsize=20)\n",
    "plt.ylabel(\"flux\",fontsize=20)"
   ]
  },
  {
   "cell_type": "code",
   "execution_count": null,
   "metadata": {},
   "outputs": [],
   "source": [
    "for foo in (time, flux, flerr, quarter):\n",
    "    if not np.all(np.isfinite(foo)):\n",
    "        bad = np.logical_not(np.isfinite(foo))\n",
    "        print(np.sum(bad))"
   ]
  },
  {
   "cell_type": "code",
   "execution_count": null,
   "metadata": {},
   "outputs": [],
   "source": [
    "I = (quarter < 100) #error unless at 0?\n",
    "q,y= LombScargle(time[I],flux[I]).autopower()\n",
    "#9.15 day period according to SJM"
   ]
  },
  {
   "cell_type": "code",
   "execution_count": null,
   "metadata": {},
   "outputs": [],
   "source": [
    "#units: horizontal axis - frequency (cycles per day)\n",
    "#verticle axis - lombscargle\n",
    "plt.plot(q,y)\n",
    "plt.xlabel(\"Frequency(cycles/day)\")\n",
    "plt.ylabel(\"LombScargle\")\n",
    "plt.title(\"All\") #looks very regular"
   ]
  },
  {
   "cell_type": "code",
   "execution_count": null,
   "metadata": {},
   "outputs": [],
   "source": [
    "plt.title(\"Zoomed-In Section\")\n",
    "plt.plot(q,y)\n",
    "plt.xlabel(\"Frequency(cycles/day)\")\n",
    "plt.ylabel(\"LombScargle\")\n",
    "plt.xlim(13.4358,13.437)\n",
    "plt.grid()"
   ]
  },
  {
   "cell_type": "code",
   "execution_count": null,
   "metadata": {},
   "outputs": [],
   "source": [
    "plt.title(\"Zoomed-In Section\")\n",
    "plt.plot(q,y)\n",
    "plt.xlabel(\"Frequency(cycles/day)\")\n",
    "plt.ylabel(\"LombScargle\")\n",
    "plt.xlim(14.18763,14.18764)\n",
    "plt.ylim(.08,.1)\n",
    "plt.grid()\n",
    "plt.axvline(14.187637)"
   ]
  },
  {
   "cell_type": "code",
   "execution_count": null,
   "metadata": {},
   "outputs": [],
   "source": [
    "plt.title(\"Zoomed-In Section 13.44\")\n",
    "plt.plot(q,y)\n",
    "plt.xlabel(\"Frequency(cycles/day)\")\n",
    "plt.ylabel(\"LombScargle\")\n",
    "plt.xlim(13.434, 13.439)"
   ]
  },
  {
   "cell_type": "code",
   "execution_count": null,
   "metadata": {},
   "outputs": [],
   "source": [
    "f0=14.1877\n",
    "bandwidth=.2\n",
    "fA=f0-bandwidth\n",
    "fB=f0+bandwidth"
   ]
  },
  {
   "cell_type": "code",
   "execution_count": null,
   "metadata": {},
   "outputs": [],
   "source": [
    "Ua=np.exp(2. * np.pi * 1j * fA * time)\n",
    "Ub=np.exp(2. * np.pi * 1j * fB * time)\n",
    "print(Ua.shape, Ub.shape)"
   ]
  },
  {
   "cell_type": "code",
   "execution_count": null,
   "metadata": {},
   "outputs": [],
   "source": [
    "flux_zeromean = flux - np.mean(flux)\n",
    "rA=Ua*flux_zeromean\n",
    "rB=Ub*flux_zeromean\n",
    "rS=Ua*Ub\n",
    "print(rA.shape, rB.shape)\n",
    "print(np.mean(flux))"
   ]
  },
  {
   "cell_type": "code",
   "execution_count": null,
   "metadata": {},
   "outputs": [],
   "source": [
    "#gaussian smooth?\n",
    "sAreal=scipy.ndimage.filters.gaussian_filter1d(np.real(rA),40) #magic 30\n",
    "sBreal=scipy.ndimage.filters.gaussian_filter1d(np.real(rB),40)\n",
    "sAimag=scipy.ndimage.filters.gaussian_filter1d(np.imag(rA),40)\n",
    "sBimag=scipy.ndimage.filters.gaussian_filter1d(np.imag(rB),40)"
   ]
  },
  {
   "cell_type": "code",
   "execution_count": null,
   "metadata": {},
   "outputs": [],
   "source": [
    "sA = (sAreal ** 2 + sAimag ** 2)\n",
    "sB = (sBreal ** 2 + sBimag ** 2)\n",
    "output=(sA-sB)/(sA+sB)"
   ]
  },
  {
   "cell_type": "code",
   "execution_count": null,
   "metadata": {},
   "outputs": [],
   "source": [
    "plt.plot(time, output)\n",
    "plt.xlabel(\"Time\")\n",
    "plt.ylabel(\"Not sure what these units are yet\")\n",
    "plt.title(\"Gaussian Smooth Output (sA-sB)/(sA+sB)\")"
   ]
  },
  {
   "cell_type": "code",
   "execution_count": null,
   "metadata": {},
   "outputs": [],
   "source": [
    "orbitalf, orbitalamp = LombScargle(time,output).autopower()"
   ]
  },
  {
   "cell_type": "code",
   "execution_count": null,
   "metadata": {},
   "outputs": [],
   "source": [
    "plt.plot(orbitalf, orbitalamp)\n",
    "plt.xlabel(\"Frequency(cycles/day)\")\n",
    "plt.ylabel(\"LombScargle\")\n",
    "plt.xlim(0., 0.1)\n",
    "plt.ylim(0., 0.005)\n",
    "#zoom in around f0\n",
    "#output should show nothing there if well tuned"
   ]
  },
  {
   "cell_type": "code",
   "execution_count": null,
   "metadata": {},
   "outputs": [],
   "source": []
  },
  {
   "cell_type": "code",
   "execution_count": null,
   "metadata": {},
   "outputs": [],
   "source": [
    "# look at width of line in smoothed data\n",
    "foo = np.zeros_like(time)\n",
    "foo[5000] = 1.\n",
    "bar = scipy.ndimage.filters.gaussian_filter1d(foo, 30) # magic\n",
    "I = (quarter < 100) #error unless at 0?\n",
    "q,y= LombScargle(time, flux_zeromean * bar).autopower()\n",
    "plt.title(\"Zoomed-In Section\")\n",
    "plt.plot(q,y)\n",
    "plt.xlabel(\"Frequency(cycles/day)\")\n",
    "plt.ylabel(\"LombScargle\")\n",
    "plt.xlim(14.1875-0.5, 14.1875+0.5)\n",
    "plt.axvline(fA)\n",
    "plt.axvline(fB)\n",
    "plt.grid()"
   ]
  },
  {
   "cell_type": "code",
   "execution_count": null,
   "metadata": {},
   "outputs": [],
   "source": [
    "plt.plot(time,(sAreal ** 2 + sAimag ** 2))"
   ]
  },
  {
   "cell_type": "code",
   "execution_count": null,
   "metadata": {},
   "outputs": [],
   "source": [
    "plt.plot(time,sBreal)"
   ]
  },
  {
   "cell_type": "code",
   "execution_count": null,
   "metadata": {},
   "outputs": [],
   "source": [
    "plt.plot(time,np.real(rA))"
   ]
  },
  {
   "cell_type": "code",
   "execution_count": null,
   "metadata": {},
   "outputs": [],
   "source": [
    "plt.plot(time,np.real(rB))"
   ]
  },
  {
   "cell_type": "code",
   "execution_count": null,
   "metadata": {},
   "outputs": [],
   "source": [
    "plt.plot(time,np.imag(rA))"
   ]
  },
  {
   "cell_type": "code",
   "execution_count": null,
   "metadata": {},
   "outputs": [],
   "source": [
    "plt.plot(time,np.imag(rB))"
   ]
  },
  {
   "cell_type": "code",
   "execution_count": null,
   "metadata": {},
   "outputs": [],
   "source": [
    "plt.plot(time,sAimag)"
   ]
  },
  {
   "cell_type": "code",
   "execution_count": null,
   "metadata": {},
   "outputs": [],
   "source": [
    "plt.plot(time,sBimag)"
   ]
  },
  {
   "cell_type": "code",
   "execution_count": null,
   "metadata": {},
   "outputs": [],
   "source": []
  },
  {
   "cell_type": "code",
   "execution_count": null,
   "metadata": {},
   "outputs": [],
   "source": []
  }
 ],
 "metadata": {
  "kernelspec": {
   "display_name": "Python 3",
   "language": "python",
   "name": "python3"
  },
  "language_info": {
   "codemirror_mode": {
    "name": "ipython",
    "version": 3
   },
   "file_extension": ".py",
   "mimetype": "text/x-python",
   "name": "python",
   "nbconvert_exporter": "python",
   "pygments_lexer": "ipython3",
   "version": "3.6.4"
  }
 },
 "nbformat": 4,
 "nbformat_minor": 2
}
