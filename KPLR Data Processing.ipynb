{
 "cells": [
  {
   "cell_type": "code",
   "execution_count": null,
   "metadata": {},
   "outputs": [],
   "source": [
    "import kplr \n",
    "client = kplr.API()\n",
    "import matplotlib.pyplot as plt\n",
    "%matplotlib inline\n",
    "import numpy as np\n",
    "import pickle\n",
    "import pprint"
   ]
  },
  {
   "cell_type": "code",
   "execution_count": null,
   "metadata": {},
   "outputs": [],
   "source": [
    "kic = 6780873"
   ]
  },
  {
   "cell_type": "code",
   "execution_count": null,
   "metadata": {},
   "outputs": [],
   "source": [
    "starsample = client.star(kic)\n",
    "curves=starsample.get_light_curves(short_cadence=False, long_cadence=True, fetch=True, clobber=False)"
   ]
  },
  {
   "cell_type": "code",
   "execution_count": null,
   "metadata": {},
   "outputs": [],
   "source": [
    "short_curves, long_curves = [], []"
   ]
  },
  {
   "cell_type": "code",
   "execution_count": null,
   "metadata": {},
   "outputs": [],
   "source": [
    "for lc in curves:\n",
    "    if \"llc\" in lc.filename:\n",
    "        long_curves.append(lc)\n",
    "    else:\n",
    "        short_curves.append(lc)"
   ]
  },
  {
   "cell_type": "code",
   "execution_count": null,
   "metadata": {},
   "outputs": [],
   "source": [
    "time, flux, flerr, quarter = np.array([]), np.array([]), np.array([]), np.array([])\n",
    "for qq,lc in enumerate(long_curves): #same as KIC1718594 but changed short to long curves?\n",
    "    print(lc.filename)\n",
    "    with lc.open() as f:\n",
    "        # read in and trim the data to good data\n",
    "        thisdata = f[1].data\n",
    "        thistime = thisdata[\"time\"]\n",
    "        thisflux = thisdata[\"pdcsap_flux\"]\n",
    "        good = np.isfinite(thistime)\n",
    "        medianflux = np.nanmedian(thisflux)\n",
    "        thisflux = thisflux[good] / medianflux\n",
    "        thisflerr = thisdata[\"pdcsap_flux_err\"][good] / medianflux\n",
    "        thistime = thistime[good]\n",
    "        thisquarter = np.zeros_like(thistime) + qq\n",
    "        # patch bad fluxes\n",
    "        bad = np.logical_not(np.isfinite(thisflux))\n",
    "        thisflux[bad] = 1.\n",
    "        thisflerr[bad] = 1000.\n",
    "        # concatenate arrays\n",
    "        time = np.concatenate((time, thistime))\n",
    "        flux = np.concatenate((flux, thisflux))\n",
    "        flerr = np.concatenate((flerr, thisflerr))\n",
    "        quarter = np.concatenate((quarter, thisquarter))\n",
    "print(time.shape, flux.shape, flerr.shape)\n",
    "quarter = np.round(quarter).astype(int)"
   ]
  },
  {
   "cell_type": "code",
   "execution_count": null,
   "metadata": {
    "scrolled": true
   },
   "outputs": [],
   "source": [
    "plt.figure(figsize=(15,5))\n",
    "plt.scatter(time,flux,marker=\".\",alpha=0.1, c=quarter) #not quarters like before but looks cool\n",
    "plt.xlabel(\"time\",fontsize=20)\n",
    "plt.ylabel(\"flux\",fontsize=20)\n",
    "plt.title(\"INSERT TITLE\")"
   ]
  },
  {
   "cell_type": "code",
   "execution_count": null,
   "metadata": {
    "scrolled": true
   },
   "outputs": [],
   "source": [
    "#need to work on grey band\n",
    "plt.figure(figsize=(15,5))\n",
    "plt.step(time,flux)\n",
    "plt.xlabel(\"time\",fontsize=20)\n",
    "plt.ylabel(\"flux\",fontsize=20)\n",
    "plt.title(\"ZOOMED INSERT TITLE\")\n",
    "plt.xlim(130,170)"
   ]
  },
  {
   "cell_type": "code",
   "execution_count": null,
   "metadata": {},
   "outputs": [],
   "source": [
    "dictionary1={\"kic\":kic,\n",
    "             \"time\":time,\n",
    "             \"flux\":flux,\n",
    "             \"flerr\":flerr,\n",
    "             \"quarter\":quarter}"
   ]
  },
  {
   "cell_type": "code",
   "execution_count": null,
   "metadata": {},
   "outputs": [],
   "source": [
    "picklesave = open(\"rawdata.pickle\",\"wb\")\n",
    "pickle.dump(dictionary1, picklesave)\n",
    "picklesave.close()"
   ]
  }
 ],
 "metadata": {
  "kernelspec": {
   "display_name": "Python 3",
   "language": "python",
   "name": "python3"
  },
  "language_info": {
   "codemirror_mode": {
    "name": "ipython",
    "version": 3
   },
   "file_extension": ".py",
   "mimetype": "text/x-python",
   "name": "python",
   "nbconvert_exporter": "python",
   "pygments_lexer": "ipython3",
   "version": "3.6.4"
  }
 },
 "nbformat": 4,
 "nbformat_minor": 2
}
