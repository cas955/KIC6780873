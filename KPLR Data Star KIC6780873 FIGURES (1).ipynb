{
 "cells": [
  {
   "cell_type": "code",
   "execution_count": null,
   "metadata": {},
   "outputs": [],
   "source": [
    "import numpy as np\n",
    "import pickle\n",
    "import kplr \n",
    "client = kplr.API()\n",
    "import matplotlib.pyplot as plt\n",
    "%matplotlib inline\n",
    "import pprint\n",
    "from astropy.stats import LombScargle\n",
    "from mpl_toolkits.axes_grid1.inset_locator import zoomed_inset_axes, mark_inset\n",
    "\n",
    "pickleload = open(\"rawdata.pickle\",\"rb\")\n",
    "data1 = pickle.load(pickleload)\n",
    "pickleload = open(\"filtered_and_mixed.pickle\",\"rb\")\n",
    "data2 = pickle.load(pickleload)\n",
    "pickleload = open(\"realimag.pickle\",\"rb\")\n",
    "data3 = pickle.load(pickleload)"
   ]
  },
  {
   "cell_type": "code",
   "execution_count": null,
   "metadata": {},
   "outputs": [],
   "source": [
    "#graphing parameters\n",
    "alphap=.1\n",
    "datac=\"black\"\n",
    "resultc=\"tomato\"\n",
    "guidingc=\"darkgrey\"\n",
    "axisfsize=20\n",
    "figsizerect=(15,5)\n",
    "figsizesq=(7.5,7.5)\n",
    "\n",
    "gradient=np.linspace(0,66389,66388)"
   ]
  },
  {
   "cell_type": "code",
   "execution_count": null,
   "metadata": {},
   "outputs": [],
   "source": [
    "plt.figure(figsize=figsizerect)\n",
    "plt.scatter(data1[\"time\"],data1[\"flux\"],marker=\".\",alpha=alphap,c=gradient) #not quarters like before but looks cool\n",
    "plt.title(\"Kepler SAP Flux\",fontsize=axisfsize)\n",
    "plt.xlabel(\"Barycentric Julian Date plus offset (d)\",fontsize=axisfsize)\n",
    "plt.ylabel(\"Flux (arbitrary units)\",fontsize=axisfsize)\n",
    "ylim = plt.ylim(0.985, 1.015)\n",
    "xlim = plt.xlim(120, 1610)\n",
    "plt.axvline(140,c='k',linewidth=.5)\n",
    "plt.axvline(145,c='k',linewidth=.5)\n",
    "plt.tick_params(labelsize=axisfsize)\n",
    "plt.savefig('KeplerSAPFlux',dpi=300)\n",
    "#for flux, arbitr"
   ]
  },
  {
   "cell_type": "markdown",
   "metadata": {},
   "source": [
    "Graph of the flux of KIC6780873 versus day in observational period"
   ]
  },
  {
   "cell_type": "code",
   "execution_count": null,
   "metadata": {},
   "outputs": [],
   "source": [
    "plt.figure(figsize=figsizerect)\n",
    "plt.scatter(data1[\"time\"],data1[\"flux\"],marker=\".\",c=gradient)\n",
    "plt.xlim(140,145)\n",
    "ylim = plt.ylim(0.985, 1.015)\n",
    "plt.tick_params(labelsize=axisfsize)\n",
    "plt.title(\"Bandpass-filtered SAP Flux, Zoomed\",fontsize=axisfsize)\n",
    "plt.xlabel(\"Barycentric Julian Date plus offset (d)\",fontsize=axisfsize)\n",
    "plt.ylabel(\"Flux (arbitrary units)\",fontsize=axisfsize)\n",
    "plt.savefig('KeplerSAPFluxZoom',dpi=300)"
   ]
  },
  {
   "cell_type": "markdown",
   "metadata": {},
   "source": [
    "Graph of the flux of KIC6780873 versus day in observational period, zoomed in at 140-145 days"
   ]
  },
  {
   "cell_type": "code",
   "execution_count": null,
   "metadata": {},
   "outputs": [],
   "source": [
    "plt.figure(figsize=figsizerect)\n",
    "plt.scatter(data2[\"time\"],data2[\"flux\"],marker=\".\",alpha=alphap, c=gradient)\n",
    "plt.title(\"Bandpass-filtered SAP Flux\",fontsize=axisfsize)\n",
    "plt.xlabel(\"bar\",fontsize=axisfsize)\n",
    "plt.ylabel(\"foo\",fontsize=axisfsize)\n",
    "plt.xlim(xlim)\n",
    "plt.ylim(-0.015, 0.015)\n",
    "plt.tick_params(labelsize=axisfsize)\n",
    "plt.axvline(140,c='k',linewidth=.5)\n",
    "plt.axvline(145,c='k',linewidth=.5)\n",
    "plt.savefig('BandpassSAPFlux',dpi=300)"
   ]
  },
  {
   "cell_type": "markdown",
   "metadata": {},
   "source": [
    "Graph of the bandpass-filtered flux"
   ]
  },
  {
   "cell_type": "code",
   "execution_count": null,
   "metadata": {},
   "outputs": [],
   "source": [
    "plt.figure(figsize=figsizerect)\n",
    "plt.plot(data2[\"time\"],data2[\"flux\"],marker=\".\", c='#4B247A')\n",
    "plt.xlim(140,145)\n",
    "plt.title(\"Bandpass-filtered SAP Flux, Zoomed\",fontsize=axisfsize)\n",
    "plt.xlabel(\"bar\",fontsize=axisfsize)\n",
    "plt.ylabel(\"foo\",fontsize=axisfsize)\n",
    "plt.tick_params(labelsize=axisfsize)\n",
    "plt.savefig('BandpassSAPFluxZoom',dpi=300)"
   ]
  },
  {
   "cell_type": "code",
   "execution_count": null,
   "metadata": {},
   "outputs": [],
   "source": [
    "plt.figure(figsize=figsizesq)\n",
    "plt.scatter(data3[\"sremf\"],data3[\"simmf\"],marker=\".\",alpha=alphap, c=gradient,s=2)\n",
    "plt.ylabel(\"Smoothed Imaginary Component of (Mixer * Flux)\",fontsize=axisfsize)\n",
    "plt.xlabel(\"Smoothed Real Component of (Mixer * Flux)\",fontsize=axisfsize)\n",
    "plt.title(\"Imaginary Versus Real of Mixer*Flux\",fontsize=axisfsize)\n",
    "plt.axvline(0., color=\"k\", alpha=0.25)\n",
    "plt.axhline(0., color=\"k\", alpha=0.25)\n",
    "imlim = plt.xlim(-1.3, 1.3)\n",
    "plt.ylim(imlim)\n",
    "plt.tick_params(labelsize=axisfsize)\n",
    "plt.savefig('ImRlMixFlux',dpi=300)"
   ]
  },
  {
   "cell_type": "code",
   "execution_count": null,
   "metadata": {},
   "outputs": [],
   "source": [
    "q,y= LombScargle(data1[\"time\"], np.arctan2(data2[\"simmf\"], data2[\"sremf\"])).autopower()\n",
    "plt.figure(figsize=figsizerect)\n",
    "plt.ylim(1e-3, 1e-1)\n",
    "plt.xlim(0,75)\n",
    "plt.xlabel(\"Period (d)\",fontsize=axisfsize)\n",
    "plt.title(\"Periodogram of Lombscargle of Smoothed Imaginary & Smoothed Real\",fontsize=axisfsize)\n",
    "plt.ylabel(\"LombScargle\",fontsize=axisfsize)\n",
    "plt.text(3.5,.05,\"9.16 d\",color='r',fontsize=axisfsize)\n",
    "plt.semilogy()\n",
    "plt.grid()\n",
    "plt.axvline(8, color='#4F4F4F',linewidth=1.5)\n",
    "plt.axvline(10.5,color='#4F4F4F',linewidth=1.5)\n",
    "plt.axvline(9.16, color='red')\n",
    "plt.plot(1./q,y,color='k')\n",
    "plt.tick_params(labelsize=axisfsize)\n",
    "plt.savefig('PeriodogramLombscargleSmoothedImReal',dpi=300)"
   ]
  },
  {
   "cell_type": "code",
   "execution_count": null,
   "metadata": {},
   "outputs": [],
   "source": [
    "plt.figure(figsize=figsizerect)\n",
    "plt.plot(1./q,y,color=datac)\n",
    "plt.ylim(1e-3, 1e-1)\n",
    "plt.xlim(8,10.5)\n",
    "plt.text(9.2,.05,\"9.16 d\",color='r',fontsize=axisfsize)\n",
    "plt.title(\"Periodogram of Lombscargle of Smoothed Imaginary & Smoothed Real, Zoomed\",fontsize=axisfsize)\n",
    "plt.xlabel(\"Period (d)\",fontsize=axisfsize)\n",
    "plt.ylabel(\"LombScargle\",fontsize=axisfsize)\n",
    "plt.semilogy()\n",
    "plt.grid()\n",
    "plt.axvline(9.16, color='red')\n",
    "plt.tick_params(labelsize=axisfsize)\n",
    "plt.savefig('PeriodogramLombscargleSmoothedImRealZoom',dpi=300)"
   ]
  }
 ],
 "metadata": {
  "kernelspec": {
   "display_name": "Python 3",
   "language": "python",
   "name": "python3"
  },
  "language_info": {
   "codemirror_mode": {
    "name": "ipython",
    "version": 3
   },
   "file_extension": ".py",
   "mimetype": "text/x-python",
   "name": "python",
   "nbconvert_exporter": "python",
   "pygments_lexer": "ipython3",
   "version": "3.6.4"
  }
 },
 "nbformat": 4,
 "nbformat_minor": 2
}
