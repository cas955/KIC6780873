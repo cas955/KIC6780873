{
 "cells": [
  {
   "cell_type": "code",
   "execution_count": null,
   "metadata": {},
   "outputs": [],
   "source": [
    "import matplotlib.pyplot as plt\n",
    "%matplotlib inline\n",
    "import numpy as np\n",
    "from scipy.optimize import minimize as op\n",
    "from astropy.stats import LombScargle\n",
    "import math\n",
    "import pylab\n",
    "import scipy.ndimage\n",
    "from scipy.fftpack import fft,ifft,fftfreq\n",
    "import pickle"
   ]
  },
  {
   "cell_type": "code",
   "execution_count": null,
   "metadata": {},
   "outputs": [],
   "source": [
    "pickleload = open(\"filtered_and_mixed.pickle\",\"rb\")\n",
    "data = pickle.load(pickleload)"
   ]
  },
  {
   "cell_type": "code",
   "execution_count": null,
   "metadata": {},
   "outputs": [],
   "source": [
    "mixer = np.exp(1j * 2 * np.pi * data[\"f0\"] * data[\"time\"])\n",
    "mf = mixer * data[\"flux\"]\n",
    "remf=mf.real\n",
    "immf=mf.imag\n",
    "sremf = scipy.ndimage.filters.gaussian_filter1d(remf, 50)\n",
    "simmf = scipy.ndimage.filters.gaussian_filter1d(immf, 50)"
   ]
  },
  {
   "cell_type": "markdown",
   "metadata": {},
   "source": [
    "NEW CHUNK OF CODE"
   ]
  },
  {
   "cell_type": "code",
   "execution_count": null,
   "metadata": {},
   "outputs": [],
   "source": [
    "Astart=np.mean(remf*remf + immf*immf)/np.sqrt(np.mean(remf*remf + immf*immf))\n",
    "print (Astart)\n",
    "#need this to be equal ~ to 1, what should i be putting in denom?"
   ]
  },
  {
   "cell_type": "code",
   "execution_count": null,
   "metadata": {},
   "outputs": [],
   "source": [
    "print(np.mean(immf))\n",
    "#how exactly do i set this to 0"
   ]
  },
  {
   "cell_type": "code",
   "execution_count": null,
   "metadata": {},
   "outputs": [],
   "source": [
    "def objective(f,A,phi,data):\n",
    "    remf=...\n",
    "    immf=...\n",
    "    return np.var(immf)"
   ]
  },
  {
   "cell_type": "code",
   "execution_count": null,
   "metadata": {},
   "outputs": [],
   "source": [
    "f=op(objective,f0,args=(A,phi,data))"
   ]
  },
  {
   "cell_type": "markdown",
   "metadata": {},
   "source": [
    "END OF NEW CODE"
   ]
  },
  {
   "cell_type": "code",
   "execution_count": null,
   "metadata": {},
   "outputs": [],
   "source": [
    "q,y= LombScargle(data[\"time\"], np.arctan2(simmf, sremf)).autopower()"
   ]
  },
  {
   "cell_type": "code",
   "execution_count": null,
   "metadata": {},
   "outputs": [],
   "source": [
    "plt.plot(1./q,y)\n",
    "plt.xlabel(\"Period (d)\")\n",
    "plt.ylabel(\"LombScargle\")\n",
    "plt.xlim(0., 10.)\n",
    "plt.ylim(1e-3, 1e-1)\n",
    "plt.semilogy()\n",
    "plt.grid()\n",
    "for factor in range(1,10):\n",
    "    plt.axvline(9.16 / factor, color=\"r\", alpha=0.5)"
   ]
  },
  {
   "cell_type": "code",
   "execution_count": null,
   "metadata": {
    "scrolled": true
   },
   "outputs": [],
   "source": [
    "plt.plot(1./q,y)\n",
    "plt.xlabel(\"Period (d)\")\n",
    "plt.ylabel(\"LombScargle\")\n",
    "plt.xlim(0, 20)\n",
    "plt.ylim(1e-3, 1e-1)\n",
    "plt.semilogy()\n",
    "plt.grid()\n",
    "plt.axvline(9.161,c='g',alpha=.5)\n",
    "plt.axvline(8.87,c='r',alpha=.5)"
   ]
  },
  {
   "cell_type": "code",
   "execution_count": null,
   "metadata": {},
   "outputs": [],
   "source": []
  }
 ],
 "metadata": {
  "kernelspec": {
   "display_name": "Python 3",
   "language": "python",
   "name": "python3"
  },
  "language_info": {
   "codemirror_mode": {
    "name": "ipython",
    "version": 3
   },
   "file_extension": ".py",
   "mimetype": "text/x-python",
   "name": "python",
   "nbconvert_exporter": "python",
   "pygments_lexer": "ipython3",
   "version": "3.6.4"
  }
 },
 "nbformat": 4,
 "nbformat_minor": 2
}
